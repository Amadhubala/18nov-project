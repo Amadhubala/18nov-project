{
 "cells": [
  {
   "cell_type": "markdown",
   "id": "ea1a2146-f6fe-4d9b-a95d-ae9e1a27f932",
   "metadata": {},
   "source": [
    "### Pandas\n",
    " - Has reference to panel data as well as python data analysis\n",
    " - Built on numpy\n",
    " - Handling huge datasets"
   ]
  },
  {
   "cell_type": "markdown",
   "id": "fc125ffc-f997-4b1c-bf0b-a15c0e80a1ea",
   "metadata": {},
   "source": [
    "#### Data - Series/Data Frames"
   ]
  },
  {
   "cell_type": "code",
   "execution_count": null,
   "id": "9fff6c1b-9bbd-40b4-aad5-83c0e33eb52d",
   "metadata": {},
   "outputs": [],
   "source": [
    "import numpy as np\n",
    "import pandas as pd"
   ]
  },
  {
   "cell_type": "code",
   "execution_count": null,
   "id": "65ec46c3-0f83-4aa3-adca-f7dcc931c813",
   "metadata": {},
   "outputs": [],
   "source": [
    "#Series\n",
    "list1 = [1,2,3,4]\n",
    "arr = np.array([2,3,4,5])\n",
    "tup1 = (1,2,34,5)\n",
    "set1 = {3,4,6,7}\n",
    "dict1 = {'row1': 1,'row2': 2, 'row3' : 3, 'row4' : 4}"
   ]
  },
  {
   "cell_type": "code",
   "execution_count": null,
   "id": "e1d02300-cfe4-4501-a0e2-130a0a88fbd2",
   "metadata": {},
   "outputs": [],
   "source": [
    "s = pd.Series(list1)"
   ]
  },
  {
   "cell_type": "code",
   "execution_count": null,
   "id": "8c6daa3b-4798-412e-bb90-0b5ceb302521",
   "metadata": {},
   "outputs": [],
   "source": [
    "s"
   ]
  },
  {
   "cell_type": "code",
   "execution_count": null,
   "id": "8802ee18-4e86-4496-ab56-d3f66409017d",
   "metadata": {},
   "outputs": [],
   "source": [
    "arr"
   ]
  },
  {
   "cell_type": "code",
   "execution_count": null,
   "id": "18c6a79f-d625-4803-87c2-8ba5d01e5dd2",
   "metadata": {},
   "outputs": [],
   "source": [
    "list1"
   ]
  },
  {
   "cell_type": "code",
   "execution_count": null,
   "id": "6b75f663-d203-49bf-92d1-484023a01def",
   "metadata": {},
   "outputs": [],
   "source": [
    "s1 = pd.Series(arr)\n",
    "s1"
   ]
  },
  {
   "cell_type": "code",
   "execution_count": null,
   "id": "e432d094-7f4b-4a76-956a-2a9b819a435f",
   "metadata": {},
   "outputs": [],
   "source": [
    "s2 = pd.Series(tup1)\n",
    "s2"
   ]
  },
  {
   "cell_type": "code",
   "execution_count": null,
   "id": "669684aa-4999-4c57-b3cb-a34da6794d18",
   "metadata": {},
   "outputs": [],
   "source": [
    "s3 = pd.Series(dict1)\n",
    "s3"
   ]
  },
  {
   "cell_type": "code",
   "execution_count": null,
   "id": "be55029b-5a35-41ef-b08e-ba4346f5e7e0",
   "metadata": {},
   "outputs": [],
   "source": [
    "s = pd.Series([1,2,3,4],index=['a','b','c','d'],dtype = float,name='Series1')"
   ]
  },
  {
   "cell_type": "code",
   "execution_count": null,
   "id": "0f4e60f1-a4f9-4c86-9547-5ea01eba8d2f",
   "metadata": {},
   "outputs": [],
   "source": [
    "s"
   ]
  },
  {
   "cell_type": "code",
   "execution_count": null,
   "id": "656085e0-9b78-47aa-894c-970747e55575",
   "metadata": {},
   "outputs": [],
   "source": [
    "l2 = [[1,2,3,4],[23,4,5,6],[3,4,5,6],[1,2,3,4]]\n",
    "df = pd.DataFrame(l2)\n",
    "df"
   ]
  },
  {
   "cell_type": "code",
   "execution_count": null,
   "id": "97436d57-ff1c-4506-8a47-507da448e786",
   "metadata": {},
   "outputs": [],
   "source": [
    "arr2 = np.array([[1,2,3],[2,3,4],[4,5,'r']])\n",
    "arr2"
   ]
  },
  {
   "cell_type": "code",
   "execution_count": null,
   "id": "f9f441ed-1c6f-47bb-aea0-5bb36e5a5fb5",
   "metadata": {},
   "outputs": [],
   "source": [
    "df = pd.DataFrame(arr2)\n",
    "df"
   ]
  },
  {
   "cell_type": "code",
   "execution_count": null,
   "id": "74432180-a294-43ff-a0bb-b8e20837f014",
   "metadata": {},
   "outputs": [],
   "source": [
    "#Exercise: Create a dataframe with a series"
   ]
  },
  {
   "cell_type": "code",
   "execution_count": null,
   "id": "b111923f-4e32-4c6e-9d65-c90c39171386",
   "metadata": {},
   "outputs": [],
   "source": [
    "arr2 = np.array([[1,2,3],[2,3,4],[4,5,7]])\n",
    "df = pd.DataFrame(arr2,index=['r1','r2','r3'],columns=['c1','c2','c3'])\n",
    "df"
   ]
  },
  {
   "cell_type": "code",
   "execution_count": null,
   "id": "51f59a59-e942-4708-8257-a6ab2db8b92c",
   "metadata": {},
   "outputs": [],
   "source": [
    "#Renaming columns\n",
    "df.rename(columns={'c1':'col1','c2':'col2','c3':'col3'},inplace = True)\n",
    "#df = df.rename(columns={'c1':'col1','c2':'col2','c3':'col3'})"
   ]
  },
  {
   "cell_type": "code",
   "execution_count": null,
   "id": "c4580764-e752-4c5d-ba8e-8771e3b7080e",
   "metadata": {},
   "outputs": [],
   "source": [
    "df"
   ]
  },
  {
   "cell_type": "code",
   "execution_count": null,
   "id": "79805c30-2176-4fa4-bcf0-4f0d7159c54a",
   "metadata": {},
   "outputs": [],
   "source": [
    "# inplace = True  ----  tells that changes are permanent"
   ]
  },
  {
   "cell_type": "code",
   "execution_count": null,
   "id": "29fc10f9-6fbd-433c-b12b-3d2f1753ff4e",
   "metadata": {},
   "outputs": [],
   "source": [
    "df.col1"
   ]
  },
  {
   "cell_type": "code",
   "execution_count": null,
   "id": "efa5708e-f1d2-4abb-8d38-7b081ee1994d",
   "metadata": {},
   "outputs": [],
   "source": [
    "df['col1']"
   ]
  },
  {
   "cell_type": "markdown",
   "id": "b3bec62e-4fe1-44ea-8e28-6faa5fd58185",
   "metadata": {},
   "source": [
    "## File reading in pandas\n",
    "- Data is commonly read from files\n",
    "- different files like csv, tsv, excel, json "
   ]
  },
  {
   "cell_type": "code",
   "execution_count": null,
   "id": "6b477e2d-b8f1-4054-91c9-0e19d1b0339c",
   "metadata": {},
   "outputs": [],
   "source": [
    "#data = pd.read_csv()\n",
    "data = pd.read_csv('train.csv')\n",
    "df1 = pd.read_excel('ex1.xlsx')\n",
    "df = pd.read_json('example.json')"
   ]
  },
  {
   "cell_type": "code",
   "execution_count": null,
   "id": "443ec910-9771-4d21-aa58-1e37e77656f6",
   "metadata": {},
   "outputs": [],
   "source": [
    "data"
   ]
  },
  {
   "cell_type": "markdown",
   "id": "e8712ea5-9894-4427-bda6-fd91a0ec7f49",
   "metadata": {},
   "source": [
    "### Basic checks:\n",
    "- df.head()\n",
    "- df.tail()\n",
    "- df.info()\n",
    "- df.describe()\n",
    "- df.shape\n",
    "- df.columns\n",
    "- type(df)\n",
    "- isnull()\n",
    "- isnull().sum()\n",
    "- unique()\n",
    "- value_counts()"
   ]
  },
  {
   "cell_type": "code",
   "execution_count": null,
   "id": "69cd0366-4b49-432e-a309-37b320e3b371",
   "metadata": {},
   "outputs": [],
   "source": [
    "data.head(2)"
   ]
  },
  {
   "cell_type": "code",
   "execution_count": null,
   "id": "c2f84545-075e-4381-8ecb-131e4c6ccf56",
   "metadata": {},
   "outputs": [],
   "source": [
    "data.tail(3)"
   ]
  },
  {
   "cell_type": "code",
   "execution_count": null,
   "id": "a1f5819c-be64-4f4b-b13b-89e44fbe530e",
   "metadata": {},
   "outputs": [],
   "source": [
    "data.info()"
   ]
  },
  {
   "cell_type": "code",
   "execution_count": null,
   "id": "71a9048b-8eda-4ca4-beb2-c0bc28f5112d",
   "metadata": {},
   "outputs": [],
   "source": [
    "data.describe()"
   ]
  },
  {
   "cell_type": "code",
   "execution_count": null,
   "id": "0430fceb-a874-4ec2-a24b-68e643a61cfe",
   "metadata": {},
   "outputs": [],
   "source": [
    "data.describe(include='O')"
   ]
  },
  {
   "cell_type": "code",
   "execution_count": null,
   "id": "11e95189-93d5-4a30-ad92-cc3a04a9c08d",
   "metadata": {},
   "outputs": [],
   "source": [
    "data.columns"
   ]
  },
  {
   "cell_type": "code",
   "execution_count": null,
   "id": "407f02fc-0651-4631-9573-55de84efd86d",
   "metadata": {},
   "outputs": [],
   "source": [
    "data.shape"
   ]
  },
  {
   "cell_type": "code",
   "execution_count": null,
   "id": "13e9bfb8-281f-4faf-bac1-b8e4534be9d3",
   "metadata": {},
   "outputs": [],
   "source": [
    "type(data)"
   ]
  },
  {
   "cell_type": "code",
   "execution_count": null,
   "id": "5fb56940-6ba4-4d5f-92a3-b8a20b4040ed",
   "metadata": {},
   "outputs": [],
   "source": [
    "data.PassengerId.dtype"
   ]
  },
  {
   "cell_type": "code",
   "execution_count": null,
   "id": "dda940e8-f33c-4d96-bd60-b30476c753d9",
   "metadata": {},
   "outputs": [],
   "source": [
    "#NULL Values:\n",
    "data.PassengerId.isnull().sum()"
   ]
  },
  {
   "cell_type": "code",
   "execution_count": null,
   "id": "56ad667c-dc25-43b5-8029-9ac62bf8620c",
   "metadata": {},
   "outputs": [],
   "source": [
    "data.Age.isnull().sum()"
   ]
  },
  {
   "cell_type": "code",
   "execution_count": null,
   "id": "0e77b690-7dfe-4075-81cc-5db4397371dc",
   "metadata": {},
   "outputs": [],
   "source": [
    "data.Cabin.isnull().sum()"
   ]
  },
  {
   "cell_type": "code",
   "execution_count": null,
   "id": "6a1924be-4c31-40aa-872a-d2a16ba2ea7c",
   "metadata": {},
   "outputs": [],
   "source": [
    "data.Cabin.unique()"
   ]
  },
  {
   "cell_type": "code",
   "execution_count": null,
   "id": "676787f2-c48d-484a-a3ae-6c2b292a4e61",
   "metadata": {},
   "outputs": [],
   "source": [
    "data.Cabin.value_counts()"
   ]
  },
  {
   "cell_type": "code",
   "execution_count": null,
   "id": "e3250ca4-904c-4ef9-8f04-459228787525",
   "metadata": {},
   "outputs": [],
   "source": [
    "data.Embarked.unique()"
   ]
  },
  {
   "cell_type": "code",
   "execution_count": null,
   "id": "0c1b7022-2fef-4819-ad48-784e4f016d95",
   "metadata": {},
   "outputs": [],
   "source": [
    "data.Embarked.value_counts()"
   ]
  },
  {
   "cell_type": "markdown",
   "id": "574a4f02-6c1f-4b99-a56a-5feeddd4bcd4",
   "metadata": {},
   "source": [
    "### Locating a value - Locaters\n",
    " - df[col_name]\n",
    " - df.col_name\n",
    " - df[col_name][row_number]\n",
    " - loc - locater - \n",
    " - iloc - indexlocater"
   ]
  },
  {
   "cell_type": "code",
   "execution_count": null,
   "id": "a9eaa2bc-5479-4033-bf13-4466535cbb25",
   "metadata": {},
   "outputs": [],
   "source": [
    "data.Survived"
   ]
  },
  {
   "cell_type": "code",
   "execution_count": null,
   "id": "d7a68d9e-463f-4149-a563-f28981b72b9d",
   "metadata": {},
   "outputs": [],
   "source": [
    "data['Survived']"
   ]
  },
  {
   "cell_type": "code",
   "execution_count": null,
   "id": "78bb7f45-a963-4480-adb1-66353409b09e",
   "metadata": {},
   "outputs": [],
   "source": [
    "data['Survived'][4]"
   ]
  },
  {
   "cell_type": "code",
   "execution_count": null,
   "id": "1f52aba5-6b8d-45ac-b9d6-6034b38df4a8",
   "metadata": {},
   "outputs": [],
   "source": [
    "#df.loc[row_name(row_number),col_name]\n",
    "data.loc[4,'Survived']"
   ]
  },
  {
   "cell_type": "code",
   "execution_count": null,
   "id": "7b18f3dc-7fe9-48a5-b905-a4590ca3b81f",
   "metadata": {},
   "outputs": [],
   "source": [
    "data.Name"
   ]
  },
  {
   "cell_type": "code",
   "execution_count": null,
   "id": "2a7d0de7-7830-4b53-9eec-64db148693ff",
   "metadata": {},
   "outputs": [],
   "source": [
    "data['Name']"
   ]
  },
  {
   "cell_type": "code",
   "execution_count": null,
   "id": "4721376d-3eec-43f7-b4f9-e228ed7eeb7a",
   "metadata": {},
   "outputs": [],
   "source": [
    "data.Name[4]"
   ]
  },
  {
   "cell_type": "code",
   "execution_count": null,
   "id": "73fd86d9-4d64-4429-bde3-7bd8a4f331a5",
   "metadata": {},
   "outputs": [],
   "source": [
    "data.loc[4,'Name']"
   ]
  },
  {
   "cell_type": "code",
   "execution_count": null,
   "id": "bf9aa53f-644d-41eb-a0ed-7068a92b9efc",
   "metadata": {},
   "outputs": [],
   "source": [
    "#df.iloc[rownum,colnum]\n",
    "data.iloc[4,3]"
   ]
  },
  {
   "cell_type": "code",
   "execution_count": null,
   "id": "387cb130-b41f-44f9-a77b-5601eb9e2883",
   "metadata": {},
   "outputs": [],
   "source": [
    "data.loc[[2,10],['Survived','Cabin','Parch']]"
   ]
  },
  {
   "cell_type": "code",
   "execution_count": null,
   "id": "9eff3993-9d18-406f-93ab-aaa902a8f26b",
   "metadata": {},
   "outputs": [],
   "source": [
    "data.iloc[2:10,[4,1,8,3]]"
   ]
  },
  {
   "cell_type": "markdown",
   "id": "969a4899-37c6-46f1-9756-374af039e965",
   "metadata": {},
   "source": [
    "### Filtering values\n",
    "- using loc and iloc"
   ]
  },
  {
   "cell_type": "code",
   "execution_count": null,
   "id": "6c7a0c78-40ab-431a-a60a-6b94ef51a929",
   "metadata": {},
   "outputs": [],
   "source": [
    "data.loc[(data.Age>=60)&(data.Survived==1),'Name']"
   ]
  },
  {
   "cell_type": "code",
   "execution_count": null,
   "id": "536cf33b-dc63-4e53-b6d2-55421ce20aca",
   "metadata": {},
   "outputs": [],
   "source": [
    "data.iloc[np.where(data.Age>=70)]"
   ]
  },
  {
   "cell_type": "code",
   "execution_count": null,
   "id": "ce619f82-9105-40ce-b98e-d4895af910ae",
   "metadata": {},
   "outputs": [],
   "source": [
    "#Creating a new columns\n",
    "s1 = pd.Series([1,2,3,4],name='col1')\n",
    "s2 = pd.Series([11,21,31,41],name='col2')\n",
    "s3 = pd.Series([31,32,33,34],name='col3')\n",
    "df = pd.DataFrame(s1)"
   ]
  },
  {
   "cell_type": "code",
   "execution_count": null,
   "id": "a3f9b4f7-b41d-48d4-b8c2-2315f29a8aea",
   "metadata": {},
   "outputs": [],
   "source": [
    "df"
   ]
  },
  {
   "cell_type": "code",
   "execution_count": null,
   "id": "0d82b86b-bc71-439a-b43c-96c0f7420ae1",
   "metadata": {},
   "outputs": [],
   "source": [
    "df['col2'] = s2"
   ]
  },
  {
   "cell_type": "code",
   "execution_count": null,
   "id": "7029ee2b-5bf4-460a-abcd-5e819b00004f",
   "metadata": {},
   "outputs": [],
   "source": [
    "df"
   ]
  },
  {
   "cell_type": "code",
   "execution_count": null,
   "id": "043480ba-b983-49d3-8f6e-1a4eb976b555",
   "metadata": {},
   "outputs": [],
   "source": [
    "pd.concat([df,s3],axis=1)"
   ]
  },
  {
   "cell_type": "markdown",
   "id": "ebe28435-98a8-48e9-bb32-a69e3b513830",
   "metadata": {},
   "source": [
    "## Cleaning/Manipulating the data\n",
    "- Dropping columns - dropna(), drop\n",
    "- Imputing values"
   ]
  },
  {
   "cell_type": "code",
   "execution_count": null,
   "id": "cbe9dce7-12ca-4b1b-9931-8f2d47ed4200",
   "metadata": {},
   "outputs": [],
   "source": [
    "data.head(2)"
   ]
  },
  {
   "cell_type": "code",
   "execution_count": null,
   "id": "b4b1d9db-11ec-455c-b7c5-19c1282af4e7",
   "metadata": {},
   "outputs": [],
   "source": [
    "data.info()"
   ]
  },
  {
   "cell_type": "code",
   "execution_count": null,
   "id": "0b99c734-176d-49e1-9e0e-5ba389e9c175",
   "metadata": {},
   "outputs": [],
   "source": [
    "#out of 891,only 204 non null values\n",
    "data.drop('Cabin',axis=1,inplace=True)"
   ]
  },
  {
   "cell_type": "code",
   "execution_count": null,
   "id": "3fd3d4e4-a9b7-4860-96ec-6a0030e9c1e9",
   "metadata": {},
   "outputs": [],
   "source": [
    "data.columns"
   ]
  },
  {
   "cell_type": "raw",
   "id": "7d7dd0d3-9b6b-4149-8703-2f4f13f9f657",
   "metadata": {},
   "source": [
    "pd.set_option('display.max_rows',None)\n",
    "pd.reset_option('display.max_rows',None)\n",
    "pd.set_option('display.max_columns',None)\n",
    "pd.reset_option('display.max_columns',None)"
   ]
  },
  {
   "cell_type": "code",
   "execution_count": null,
   "id": "d2108d67-d6da-4162-9731-44446672d704",
   "metadata": {},
   "outputs": [],
   "source": [
    "pd.reset_option('display.max_rows',None)\n",
    "data.dropna()"
   ]
  },
  {
   "cell_type": "code",
   "execution_count": null,
   "id": "fa887090-abd7-4913-a968-3071d075141d",
   "metadata": {},
   "outputs": [],
   "source": [
    "data.info()"
   ]
  },
  {
   "cell_type": "code",
   "execution_count": null,
   "id": "cf769408-8b38-43e9-aafe-1ac336a6a37b",
   "metadata": {},
   "outputs": [],
   "source": [
    "#Imputing values - fillna(0)\n",
    "data.loc[data.Age.isnull(),'Age'] = data.Age.mean()"
   ]
  },
  {
   "cell_type": "code",
   "execution_count": null,
   "id": "13d16f6c-8821-49d2-9d25-e5aa4c42615a",
   "metadata": {},
   "outputs": [],
   "source": [
    "data.loc[data.Age.isnull()]"
   ]
  },
  {
   "cell_type": "code",
   "execution_count": null,
   "id": "3a999e7c-1334-4d05-bafa-a631910138c4",
   "metadata": {},
   "outputs": [],
   "source": [
    "#Duplications - Filter\n",
    "data.duplicated().sum()"
   ]
  },
  {
   "cell_type": "code",
   "execution_count": null,
   "id": "1cd69946-6af1-4cbe-9ea9-99d7699c7c20",
   "metadata": {},
   "outputs": [],
   "source": [
    "data.drop_duplicates(inplace=True)   #Drop duplicate columns"
   ]
  },
  {
   "cell_type": "code",
   "execution_count": null,
   "id": "eb327caa-c801-44ca-ba8a-47d98f5b8ae3",
   "metadata": {},
   "outputs": [],
   "source": [
    "#Sorting\n",
    "data.sort_values('Age')"
   ]
  },
  {
   "cell_type": "code",
   "execution_count": null,
   "id": "a4955d27-4d16-4735-8d40-bb2006f7a50b",
   "metadata": {},
   "outputs": [],
   "source": [
    "#Group by functions\n",
    "data.groupby('Sex')"
   ]
  },
  {
   "cell_type": "code",
   "execution_count": null,
   "id": "b7b7d841-2bc4-43c8-bb3c-d2c7d1ddc4aa",
   "metadata": {},
   "outputs": [],
   "source": [
    "#Aggregators sum(),mean(),min(),max(),median(),std(),var(),avg(),describe()\n",
    "data.groupby('Sex')['Age'].mean()"
   ]
  },
  {
   "cell_type": "code",
   "execution_count": null,
   "id": "066440de-70dc-40b9-a023-078d20e06748",
   "metadata": {},
   "outputs": [],
   "source": [
    "data.info()"
   ]
  },
  {
   "cell_type": "markdown",
   "id": "ed49efec-f56c-439f-8f4b-7f5bc0c11a56",
   "metadata": {},
   "source": [
    "## Changing the datatype\n",
    "- astype - int to float, int/float to object\n",
    "- to_numeric"
   ]
  },
  {
   "cell_type": "code",
   "execution_count": null,
   "id": "e4f5fe1e-131b-47ae-9dab-4ed3fef827cb",
   "metadata": {},
   "outputs": [],
   "source": [
    "data['Survived_obj'] = data.Survived.astype('object')"
   ]
  },
  {
   "cell_type": "code",
   "execution_count": null,
   "id": "c0ca832c-fcbc-4e9b-9c07-2a24bab29683",
   "metadata": {},
   "outputs": [],
   "source": [
    "data.info()\n",
    "data['Survived'] = data.Survived.astype('int')"
   ]
  },
  {
   "cell_type": "code",
   "execution_count": null,
   "id": "a771e880-c5e5-44e6-b87e-e5379de7860c",
   "metadata": {},
   "outputs": [],
   "source": [
    "data.info()"
   ]
  },
  {
   "cell_type": "code",
   "execution_count": null,
   "id": "b4c6dce7-1454-4bf5-998a-d74b18beb13b",
   "metadata": {},
   "outputs": [],
   "source": [
    "data['Survived_obj'] = pd.to_numeric(data.Survived_obj,downcast='integer')"
   ]
  },
  {
   "cell_type": "code",
   "execution_count": null,
   "id": "e5d57b94-c437-486e-8f2b-60fc3b3cb970",
   "metadata": {},
   "outputs": [],
   "source": [
    "data.info()"
   ]
  },
  {
   "cell_type": "code",
   "execution_count": null,
   "id": "08b98fb7-1d61-4008-bd2d-1e51f5bb6d81",
   "metadata": {},
   "outputs": [],
   "source": []
  }
 ],
 "metadata": {
  "kernelspec": {
   "display_name": "Python 3 (ipykernel)",
   "language": "python",
   "name": "python3"
  },
  "language_info": {
   "codemirror_mode": {
    "name": "ipython",
    "version": 3
   },
   "file_extension": ".py",
   "mimetype": "text/x-python",
   "name": "python",
   "nbconvert_exporter": "python",
   "pygments_lexer": "ipython3",
   "version": "3.12.4"
  }
 },
 "nbformat": 4,
 "nbformat_minor": 5
}
